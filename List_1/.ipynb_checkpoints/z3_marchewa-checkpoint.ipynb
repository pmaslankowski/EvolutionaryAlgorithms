{
 "cells": [
  {
   "cell_type": "code",
   "execution_count": 1,
   "metadata": {},
   "outputs": [],
   "source": [
    "import numpy as np\n",
    "from numpy.random import random as srand\n",
    "import matplotlib.pyplot as plt\n",
    "from scipy.stats import mode\n",
    "import json\n",
    "import multiprocessing"
   ]
  },
  {
   "cell_type": "code",
   "execution_count": 2,
   "metadata": {},
   "outputs": [],
   "source": [
    "def pbil(F, d, N, th1, th2, th3, steps=500):\n",
    "    \n",
    "    def random_pop(p, d, N):\n",
    "        population = srand((d, N))\n",
    "        return population < p\n",
    "    \n",
    "    def get_score(scores):\n",
    "        return np.max(scores), np.mean(scores), np.min(scores)\n",
    "    \n",
    "    \n",
    "    plot_probs = []\n",
    "    plot_scores = []\n",
    "    \n",
    "    p = np.ones((d, 1)) / 2\n",
    "    population = random_pop(p, d, N)\n",
    "    result = F(population)\n",
    "    \n",
    "    plot_probs.append(p)\n",
    "    plot_scores.append(get_score(result))\n",
    "    \n",
    "    for _ in range(steps - 1):\n",
    "        print(_)\n",
    "        best = population[:, [np.argmax(result)]]\n",
    "        p = p * (1 - th1) + best * th1\n",
    "        \n",
    "        if_change = srand((d,1)) < th2\n",
    "        p = p * (1 - if_change) + (\n",
    "            (if_change) * (\n",
    "                p * (1 - th3)\n",
    "                + (srand((d,1)) < 0.5) * th3\n",
    "            )\n",
    "        )\n",
    "        \n",
    "        population = random_pop(p, d, N)\n",
    "        result = F(population)\n",
    "        \n",
    "        plot_probs.append(p)\n",
    "        plot_scores.append(get_score(result))\n",
    "        np.save('data/data-score', np.array(plot_scores))\n",
    "        np.save('data/data-probs', np.array(plot_probs))\n",
    "            \n",
    "    return np.array(plot_scores), np.array(plot_probs)\n",
    "        \n",
    "def plot_results(scores, probs, title=\"\"):\n",
    "    fig, axs = plt.subplots(1, 2, figsize=(15, 5))\n",
    "    fig.suptitle(title)\n",
    "    for i in range(scores.shape[1]):\n",
    "        axs[0].plot(range(scores.shape[0]), scores[:, i])\n",
    "    \n",
    "    for i in range(probs.shape[1]):\n",
    "        axs[1].plot(range(probs.shape[0]), probs[:,i,0])\n",
    "    plt.show()"
   ]
  },
  {
   "cell_type": "code",
   "execution_count": 4,
   "metadata": {},
   "outputs": [
    {
     "data": {
      "text/plain": [
       "((3, 9350), (9350,), (266, 9350))"
      ]
     },
     "execution_count": 4,
     "metadata": {},
     "output_type": "execute_result"
    }
   ],
   "source": [
    "data = np.loadtxt('ImageRawReduced.txt')\n",
    "targets = np.loadtxt('ImageExpertReduced.txt')\n",
    "rules = np.loadtxt('ClassificationRules.txt')\n",
    "data.shape, targets.shape, rules.shape"
   ]
  },
  {
   "cell_type": "code",
   "execution_count": 5,
   "metadata": {},
   "outputs": [],
   "source": [
    "def process_instance(rules_mask):\n",
    "            return (mode(\n",
    "                rules[rules_mask],\n",
    "                axis=0\n",
    "            )[0] == targets).sum()\n",
    "    \n",
    "def f(pop):\n",
    "    pop = pop.T\n",
    "    res = np.zeros((pop.shape[0], targets.size))\n",
    "    with multiprocessing.Pool(processes=multiprocessing.cpu_count()) as pool:\n",
    "        res = pool.map(process_instance, [x for x in pop])\n",
    "    return np.array(res)"
   ]
  },
  {
   "cell_type": "code",
   "execution_count": null,
   "metadata": {},
   "outputs": [],
   "source": [
    "p = np.full((266), False)\n",
    "f()"
   ]
  },
  {
   "cell_type": "code",
   "execution_count": 6,
   "metadata": {},
   "outputs": [
    {
     "ename": "NameError",
     "evalue": "name 'scores' is not defined",
     "output_type": "error",
     "traceback": [
      "\u001b[1;31m---------------------------------------------------------------------------\u001b[0m",
      "\u001b[1;31mNameError\u001b[0m                                 Traceback (most recent call last)",
      "\u001b[1;32m<ipython-input-6-6f243cd4cd46>\u001b[0m in \u001b[0;36m<module>\u001b[1;34m\u001b[0m\n\u001b[0;32m     10\u001b[0m \u001b[1;31m# plot_results(*pbil(**args))\u001b[0m\u001b[1;33m\u001b[0m\u001b[1;33m\u001b[0m\u001b[1;33m\u001b[0m\u001b[0m\n\u001b[0;32m     11\u001b[0m \u001b[1;33m\u001b[0m\u001b[0m\n\u001b[1;32m---> 12\u001b[1;33m \u001b[0mplot_results\u001b[0m\u001b[1;33m(\u001b[0m\u001b[0mscores\u001b[0m\u001b[1;33m,\u001b[0m \u001b[0mprobs\u001b[0m\u001b[1;33m)\u001b[0m\u001b[1;33m\u001b[0m\u001b[1;33m\u001b[0m\u001b[0m\n\u001b[0m",
      "\u001b[1;31mNameError\u001b[0m: name 'scores' is not defined"
     ]
    }
   ],
   "source": [
    "args = {\n",
    "    'F':f,\n",
    "    'd':rules.shape[0],\n",
    "    'N':125,\n",
    "    'th1':0.01,\n",
    "    'th2':0.01,\n",
    "    'th3':0.01,\n",
    "    'steps':1000\n",
    "}\n",
    "# plot_results(*pbil(**args))\n",
    "\n",
    "plot_results(scores, probs)"
   ]
  },
  {
   "cell_type": "code",
   "execution_count": null,
   "metadata": {
    "scrolled": true
   },
   "outputs": [
    {
     "name": "stdout",
     "output_type": "stream",
     "text": [
      "0\n",
      "1\n",
      "2\n",
      "3\n",
      "4\n"
     ]
    }
   ],
   "source": [
    "args = {\n",
    "    'F':f,\n",
    "    'd':rules.shape[0],\n",
    "    'N':125,\n",
    "    'th1':0.01,\n",
    "    'th2':0.001,\n",
    "    'th3':0.01,\n",
    "    'steps':20000\n",
    "}\n",
    "plot_results(*pbil(**args))"
   ]
  },
  {
   "cell_type": "code",
   "execution_count": 2,
   "metadata": {},
   "outputs": [],
   "source": [
    "args = {\n",
    "    'F':f,\n",
    "    'd':rules.shape[0],\n",
    "    'N':125,\n",
    "    'th1':0.1,\n",
    "    'th2':0.07,\n",
    "    'th3':0.05,\n",
    "    'steps':1000\n",
    "}\n",
    "plot_results(*pbil(**args))"
   ]
  }
 ],
 "metadata": {
  "kernelspec": {
   "display_name": "Python 3",
   "language": "python",
   "name": "python3"
  },
  "language_info": {
   "codemirror_mode": {
    "name": "ipython",
    "version": 3
   },
   "file_extension": ".py",
   "mimetype": "text/x-python",
   "name": "python",
   "nbconvert_exporter": "python",
   "pygments_lexer": "ipython3",
   "version": "3.7.1"
  }
 },
 "nbformat": 4,
 "nbformat_minor": 2
}
